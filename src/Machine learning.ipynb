{
 "cells": [
  {
   "cell_type": "code",
   "execution_count": 2,
   "metadata": {},
   "outputs": [],
   "source": [
    "from sklearn.metrics import mean_squared_error, r2_score\n",
    "import os\n",
    "import pandas as pd\n",
    "\n",
    "BASE_PATH = \"C:/Users/aguil/OneDrive/Desktop/proyectos javier/regresion-lineal/models/excel\"\n",
    "TRAIN_PATHS = [\n",
    "    \"X_train_con_outliers.xlsx\",\n",
    "    \"X_train_sin_outliers.xlsx\",\n",
    "    \"X_train_con_outliers_norm.xlsx\",\n",
    "    \"X_train_sin_outliers_norm.xlsx\",\n",
    "    \"X_train_con_outliers_scal.xlsx\",\n",
    "    \"X_train_sin_outliers_scal.xlsx\"\n",
    "]\n",
    "TRAIN_DATASETS = []\n",
    "for path in TRAIN_PATHS:\n",
    "    TRAIN_DATASETS.append(\n",
    "        # pd.read_excel(BASE_PATH + \"/\" + path)\n",
    "        pd.read_excel(f\"{BASE_PATH}/{path}\")\n",
    "        # pd.read_excel(os.path.join(BASE_PATH, path))\n",
    "    )\n",
    "\n",
    "TEST_PATHS = [\n",
    "    \"X_test_con_outliers.xlsx\",\n",
    "    \"X_test_sin_outliers.xlsx\",\n",
    "    \"X_test_con_outliers_norm.xlsx\",\n",
    "    \"X_test_sin_outliers_norm.xlsx\",\n",
    "    \"X_test_con_outliers_scal.xlsx\",\n",
    "    \"X_test_sin_outliers_scal.xlsx\"\n",
    "]\n",
    "TEST_DATASETS = []\n",
    "for path in TEST_PATHS:\n",
    "    TEST_DATASETS.append(\n",
    "        pd.read_excel(f\"{BASE_PATH}/{path}\")\n",
    "    )\n",
    "\n",
    "y_train = pd.read_excel(f\"{BASE_PATH}/y_train.xlsx\")\n",
    "y_test = pd.read_excel(f\"{BASE_PATH}/y_test.xlsx\")"
   ]
  },
  {
   "cell_type": "code",
   "execution_count": 4,
   "metadata": {},
   "outputs": [
    {
     "name": "stdout",
     "output_type": "stream",
     "text": [
      "Entrenando dataset 0...\n",
      "Entrenando dataset 1...\n",
      "Entrenando dataset 2...\n",
      "Entrenando dataset 3...\n",
      "Entrenando dataset 4...\n",
      "Entrenando dataset 5...\n"
     ]
    },
    {
     "data": {
      "text/plain": [
       "[{'train_mse': 37005531.72811555,\n",
       "  'test_mse': 35493102.611650534,\n",
       "  'train_r2': 0.7297182858804965,\n",
       "  'test_r2': 0.8068466322629111},\n",
       " {'train_mse': 121323209.24975131,\n",
       "  'test_mse': 157906559.7384013,\n",
       "  'train_r2': 0.11387721167135234,\n",
       "  'test_r2': 0.14067293200683983},\n",
       " {'train_mse': 37005531.72811554,\n",
       "  'test_mse': 35493102.61165054,\n",
       "  'train_r2': 0.7297182858804965,\n",
       "  'test_r2': 0.8068466322629111},\n",
       " {'train_mse': 121323209.24975131,\n",
       "  'test_mse': 157906559.7384013,\n",
       "  'train_r2': 0.11387721167135234,\n",
       "  'test_r2': 0.14067293200683983},\n",
       " {'train_mse': 37005531.72811554,\n",
       "  'test_mse': 35493102.6116505,\n",
       "  'train_r2': 0.7297182858804965,\n",
       "  'test_r2': 0.8068466322629113},\n",
       " {'train_mse': 121323209.24975131,\n",
       "  'test_mse': 157906559.7384013,\n",
       "  'train_r2': 0.11387721167135234,\n",
       "  'test_r2': 0.14067293200683983}]"
      ]
     },
     "execution_count": 4,
     "metadata": {},
     "output_type": "execute_result"
    }
   ],
   "source": [
    "from sklearn.metrics import mean_squared_error, r2_score\n",
    "from sklearn.linear_model import LinearRegression\n",
    "results = []\n",
    "for index, dataset in enumerate(TRAIN_DATASETS):\n",
    "    print(f\"Entrenando dataset {index}...\")\n",
    "\n",
    "    # Inicializar modelo de regresión\n",
    "    model = LinearRegression(fit_intercept=True, copy_X=True, n_jobs=None, positive=False)\n",
    "    \n",
    "    # Entrenar el modelo\n",
    "    model.fit(dataset, y_train)\n",
    "    \n",
    "    # Predicciones\n",
    "    y_pred_train = model.predict(dataset)\n",
    "    y_pred_test = model.predict(TEST_DATASETS[index])\n",
    "\n",
    "    # Calcular métricas de regresión\n",
    "    train_mse = mean_squared_error(y_train, y_pred_train)\n",
    "    test_mse = mean_squared_error(y_test, y_pred_test)\n",
    "    train_r2 = r2_score(y_train, y_pred_train)\n",
    "    test_r2 = r2_score(y_test, y_pred_test)\n",
    "\n",
    "    # Guardar resultados\n",
    "    results.append(\n",
    "        {\n",
    "            \"train_mse\": train_mse,\n",
    "            \"test_mse\": test_mse,\n",
    "            \"train_r2\": train_r2,\n",
    "            \"test_r2\": test_r2\n",
    "        }\n",
    "    )\n",
    "\n",
    "# Mostrar resultados\n",
    "results"
   ]
  },
  {
   "cell_type": "code",
   "execution_count": 6,
   "metadata": {},
   "outputs": [
    {
     "name": "stdout",
     "output_type": "stream",
     "text": [
      "     train_rmse     test_rmse  train_r2   test_r2\n",
      "0   6083.217219   5957.608800  0.729718  0.806847\n",
      "1  11014.681532  12566.087686  0.113877  0.140673\n",
      "2   6083.217219   5957.608800  0.729718  0.806847\n",
      "3  11014.681532  12566.087686  0.113877  0.140673\n",
      "4   6083.217219   5957.608800  0.729718  0.806847\n",
      "5  11014.681532  12566.087686  0.113877  0.140673\n"
     ]
    }
   ],
   "source": [
    "import numpy as np\n",
    "df_results = pd.DataFrame(results)\n",
    "\n",
    "# Calcular RMSE\n",
    "df_results[\"train_rmse\"] = np.sqrt(df_results[\"train_mse\"])\n",
    "df_results[\"test_rmse\"] = np.sqrt(df_results[\"test_mse\"])\n",
    "\n",
    "# Seleccionar columnas relevantes para mostrar en tabla\n",
    "df_results = df_results[[\"train_rmse\", \"test_rmse\", \"train_r2\", \"test_r2\"]]\n",
    "\n",
    "# Mostrar tabla\n",
    "print(df_results)"
   ]
  }
 ],
 "metadata": {
  "kernelspec": {
   "display_name": "Python 3",
   "language": "python",
   "name": "python3"
  },
  "language_info": {
   "codemirror_mode": {
    "name": "ipython",
    "version": 3
   },
   "file_extension": ".py",
   "mimetype": "text/x-python",
   "name": "python",
   "nbconvert_exporter": "python",
   "pygments_lexer": "ipython3",
   "version": "3.11.9"
  }
 },
 "nbformat": 4,
 "nbformat_minor": 2
}
